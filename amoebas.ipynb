{
 "cells": [
  {
   "cell_type": "markdown",
   "metadata": {},
   "source": [
    "Primero cargamos las bibliotecas y funciones de Python que vamos a usar.\n",
    "\n"
   ]
  },
  {
   "cell_type": "code",
   "execution_count": 1,
   "metadata": {},
   "outputs": [],
   "source": [
    "import networkx as nx\n",
    "from networkx.algorithms import isomorphism\n",
    "from sympy.combinatorics.permutations import Permutation\n",
    "from sympy.combinatorics.perm_groups import PermutationGroup\n",
    "from math import factorial\n",
    "\n",
    "from pycliques.lists import enlist_graphs\n",
    "from pycliques.utilities import invert_dict\n",
    "from pycliques.pictures import picture_list\n",
    "\n",
    "def change_edge(g, e, ne):\n",
    "    g1 = g.copy()\n",
    "    g1.remove_edge(*e)\n",
    "    g1.add_edge(*ne)\n",
    "    return g1\n",
    "\n",
    "def is_feasible_edge_replacement(g, e, ne):\n",
    "    if nx.is_isomorphic(g, change_edge(g, e, ne)):\n",
    "        GM = isomorphism.GraphMatcher(g, change_edge(g, e, ne))\n",
    "        return list(GM.subgraph_isomorphisms_iter())\n",
    "    else:\n",
    "        return False\n",
    "\n",
    "def dict_to_perm(d):\n",
    "    \"\"\"Change a dict d to a list the_list so that d[i] becomes the same as the_list[i]\"\"\"\n",
    "    the_list = []\n",
    "    for i in range(len(d)):\n",
    "        the_list.append(d[i])\n",
    "    return the_list\n",
    "\n",
    "def perms_all_feasible_edge_replacements(graph):\n",
    "    n = graph.order()\n",
    "    perms = []\n",
    "    edges = graph.edges()\n",
    "    nonedges = [(x, y) for x in range(n) for y in range(n)\n",
    "                if x != y and not (x, y) in edges]\n",
    "    for e in edges:\n",
    "        for ne in nonedges:\n",
    "            isos = is_feasible_edge_replacement(graph, e, ne)\n",
    "            if isos:\n",
    "                perms.extend([Permutation(dict_to_perm(x)) for x in isos])\n",
    "    return PermutationGroup(perms)\n",
    "\n",
    "def local_amoebas_given_order(n):\n",
    "    graphs = enlist_graphs(n)\n",
    "    return [g for g in graphs if perms_all_feasible_edge_replacements(g).order() == factorial(n)]"
   ]
  },
  {
   "cell_type": "markdown",
   "metadata": {},
   "source": [
    "Vamos a comprobar las funciones anteriores en una gráfica sencilla.\n",
    "\n"
   ]
  },
  {
   "cell_type": "code",
   "execution_count": 1,
   "metadata": {},
   "outputs": [],
   "source": [
    "g = nx.path_graph(4)\n",
    "nx.draw(g, with_labels=True)"
   ]
  },
  {
   "cell_type": "markdown",
   "metadata": {},
   "source": [
    "En la gráfica anterior borramos la arista `01` e incluimos como\n",
    "arista a `02`.\n",
    "\n"
   ]
  },
  {
   "cell_type": "code",
   "execution_count": 1,
   "metadata": {},
   "outputs": [],
   "source": [
    "h = change_edge(g, (0, 1), (0, 2))\n",
    "nx.draw(h, with_labels=True)"
   ]
  },
  {
   "cell_type": "markdown",
   "metadata": {},
   "source": [
    "Verifiquemos que al hacer tales cambios no se obtiene una gráfica\n",
    "isomorfa a la que habíamos empezado.\n",
    "\n"
   ]
  },
  {
   "cell_type": "code",
   "execution_count": 1,
   "metadata": {},
   "outputs": [],
   "source": [
    "is_feasible_edge_replacement(g, (0, 1), (0, 2))"
   ]
  },
  {
   "cell_type": "markdown",
   "metadata": {},
   "source": [
    "En caso de que las aristas se puedan cambiar, la función\n",
    "`is_feasible_edge_replacement` regresa una lista de diccionarios de Python que\n",
    "todos los isomorfismos posibles entre las gráficas etiquetadas. El\n",
    "diccionario `{3: 0, 2: 3, 1: 2, 0: 1}` debe leerse, por ejemplo, que\n",
    "el vértice 3 de la gráfica original debe enviarse al 0 de la nueva\n",
    "gráfica, el 2 al 3, el 1 al 2 y el 0 al 1.\n",
    "\n"
   ]
  },
  {
   "cell_type": "code",
   "execution_count": 1,
   "metadata": {},
   "outputs": [],
   "source": [
    "dicts = is_feasible_edge_replacement(g, (0, 1), (0, 3))\n",
    "dicts"
   ]
  },
  {
   "cell_type": "markdown",
   "metadata": {},
   "source": [
    "En el siguiente dibujo, se ponen juntas la nueva y la vieja gráfica\n",
    "para compararlas.\n",
    "\n"
   ]
  },
  {
   "cell_type": "code",
   "execution_count": 1,
   "metadata": {},
   "outputs": [],
   "source": [
    "h = change_edge(g, (0, 1), (0, 3))\n",
    "nx.draw(nx.union(h, g, rename=('h-','g-')), with_labels=True)"
   ]
  },
  {
   "cell_type": "markdown",
   "metadata": {},
   "source": [
    "Para reetiquetar la nueva gráfica de modo que quede etiquetada de\n",
    "manera idéntica a la original, aplicamos el inverso de uno de los\n",
    "mapeos, y comprobamos.\n",
    "\n"
   ]
  },
  {
   "cell_type": "code",
   "execution_count": 1,
   "metadata": {},
   "outputs": [],
   "source": [
    "hrel = nx.relabel_nodes(h, invert_dict(dicts[1]))\n",
    "nx.draw(hrel, with_labels=True)"
   ]
  },
  {
   "cell_type": "markdown",
   "metadata": {},
   "source": [
    "Para trabajar con grupos en Python, usamos la biblioteca `sympy`. Cada\n",
    "uno de los mapeos que obtuvimos puede convertirse en una permutación.\n",
    "\n"
   ]
  },
  {
   "cell_type": "code",
   "execution_count": 1,
   "metadata": {},
   "outputs": [],
   "source": [
    "lperms = [dict_to_perm(x) for x in dicts]\n",
    "lperms"
   ]
  },
  {
   "cell_type": "markdown",
   "metadata": {},
   "source": [
    "La función `Permutation` recibe una lista como `[0,3,2,1]`, que\n",
    "(en este caso) enlista las imágenes de 0,1,2,3. Es decir 0 se va a 0,\n",
    "1 a 3, 2 a 2 y 3 a 1.\n",
    "\n"
   ]
  },
  {
   "cell_type": "code",
   "execution_count": 1,
   "metadata": {},
   "outputs": [],
   "source": [
    "perms = [Permutation(x) for x in lperms]\n",
    "perms"
   ]
  },
  {
   "cell_type": "markdown",
   "metadata": {},
   "source": [
    "La función `perms_all_feasible_edge_replacements` regresa el grupo generado por\n",
    "todas las permutaciones obtenidas de esta manera.\n",
    "\n"
   ]
  },
  {
   "cell_type": "code",
   "execution_count": 1,
   "metadata": {},
   "outputs": [],
   "source": [
    "perms_all_feasible_edge_replacements(g)"
   ]
  },
  {
   "cell_type": "markdown",
   "metadata": {},
   "source": [
    "La función `local_amoebas_given_order` toma un número entre el 6 y el 10 y\n",
    "regresa la lista de las amoebas locales con ese orden.\n",
    "\n"
   ]
  },
  {
   "cell_type": "code",
   "execution_count": 1,
   "metadata": {},
   "outputs": [],
   "source": [
    "amoebas6 = local_amoebas_given_order(6)\n",
    "len(enlist_graphs(6)), len(amoebas6)"
   ]
  },
  {
   "cell_type": "markdown",
   "metadata": {},
   "source": [
    "La función `picture_list` produce un dibujo de todas las gráficas en\n",
    "una lista. (Funciona mejor si todas las gráficas en la lista son\n",
    "conexas.) El primer argumento es una condición que deben satisfacer\n",
    "las gráficas enlistadas en el segundo argumento para ser\n",
    "graficadas. El tercer argumento es el tamaño del dibujo.\n",
    "\n"
   ]
  },
  {
   "cell_type": "code",
   "execution_count": 1,
   "metadata": {},
   "outputs": [],
   "source": [
    "def return_true(graph):\n",
    "    return True\n",
    "\n",
    "picture_list(return_true, amoebas6, (6,6))"
   ]
  },
  {
   "cell_type": "code",
   "execution_count": 1,
   "metadata": {},
   "outputs": [],
   "source": [
    "amoebas7 = local_amoebas_given_order(7)\n",
    "len(enlist_graphs(7)), len(amoebas7)"
   ]
  },
  {
   "cell_type": "code",
   "execution_count": 1,
   "metadata": {},
   "outputs": [],
   "source": [
    "picture_list(return_true, amoebas7, (12, 12))"
   ]
  },
  {
   "cell_type": "markdown",
   "metadata": {},
   "source": [
    "Una dificultad del anterior método es que no es claro el índice de\n",
    "cada amoeba en el dibujo. Con un método como el siguiente podemos\n",
    "dibujar varias junto con su índice.\n",
    "\n"
   ]
  },
  {
   "cell_type": "code",
   "execution_count": 1,
   "metadata": {},
   "outputs": [],
   "source": [
    "import matplotlib.pyplot as plt\n",
    "plt.figure(figsize=(20,2.5))\n",
    "\n",
    "for i in range(9):\n",
    "    initial = 0\n",
    "    plt.subplot(190+i+1)\n",
    "    plt.title(str(i+initial))\n",
    "    nx.draw(amoebas6[i+initial], with_labels=True)\n",
    "\n",
    "plt.show()"
   ]
  }
 ],
 "metadata": {
  "kernelspec": {
   "display_name": "Python 3",
   "language": "python",
   "name": "python3"
  },
  "language_info": {
   "codemirror_mode": {
    "name": "ipython",
    "version": 3
   },
   "file_extension": ".py",
   "mimetype": "text/x-python",
   "name": "python",
   "nbconvert_exporter": "python",
   "pygments_lexer": "ipython3",
   "version": "3.7.0"
  },
  "org": null
 },
 "nbformat": 4,
 "nbformat_minor": 1
}
